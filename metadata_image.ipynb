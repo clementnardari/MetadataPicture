{
 "cells": [
  {
   "cell_type": "code",
   "execution_count": 15,
   "id": "0505e16f",
   "metadata": {},
   "outputs": [],
   "source": [
    "import PIL.Image\n",
    "import os\n",
    "os.getcwd()\n",
    "img=PIL.Image.open(\"IMG_8388.JPG\")"
   ]
  },
  {
   "cell_type": "code",
   "execution_count": 16,
   "id": "2e6b35eb",
   "metadata": {},
   "outputs": [],
   "source": [
    "import PIL.ExifTags\n",
    "exif = {\n",
    "    PIL.ExifTags.TAGS[k]: v\n",
    "    for k,v in img._getexif().items()\n",
    "    if k in PIL.ExifTags.TAGS    \n",
    "}"
   ]
  },
  {
   "cell_type": "code",
   "execution_count": 17,
   "id": "dd12e3e1",
   "metadata": {},
   "outputs": [
    {
     "data": {
      "text/plain": [
       "{1: 'N',\n",
       " 2: (48.0, 56.0, 55.79),\n",
       " 3: 'E',\n",
       " 4: (2.0, 26.0, 5.59),\n",
       " 5: b'\\x00',\n",
       " 6: 44.819607843137256,\n",
       " 7: (12.0, 59.0, 29.0),\n",
       " 12: 'K',\n",
       " 13: 0.0,\n",
       " 16: 'T',\n",
       " 17: 115.90452261306532,\n",
       " 23: 'T',\n",
       " 24: 115.90452261306532,\n",
       " 29: '2017:06:24',\n",
       " 31: 10.0}"
      ]
     },
     "execution_count": 17,
     "metadata": {},
     "output_type": "execute_result"
    }
   ],
   "source": [
    "exif['GPSInfo']"
   ]
  },
  {
   "cell_type": "code",
   "execution_count": 18,
   "id": "5c8d3d09",
   "metadata": {},
   "outputs": [
    {
     "data": {
      "text/plain": [
       "{'GPSInfo': {1: 'N',\n",
       "  2: (48.0, 56.0, 55.79),\n",
       "  3: 'E',\n",
       "  4: (2.0, 26.0, 5.59),\n",
       "  5: b'\\x00',\n",
       "  6: 44.819607843137256,\n",
       "  7: (12.0, 59.0, 29.0),\n",
       "  12: 'K',\n",
       "  13: 0.0,\n",
       "  16: 'T',\n",
       "  17: 115.90452261306532,\n",
       "  23: 'T',\n",
       "  24: 115.90452261306532,\n",
       "  29: '2017:06:24',\n",
       "  31: 10.0},\n",
       " 'ResolutionUnit': 2,\n",
       " 'ExifOffset': 206,\n",
       " 'Make': 'Apple',\n",
       " 'Model': 'iPhone 6s',\n",
       " 'Software': '10.3.2',\n",
       " 'Orientation': 1,\n",
       " 'DateTime': '2017:06:24 14:59:29',\n",
       " 'YCbCrPositioning': 1,\n",
       " 'XResolution': 72.0,\n",
       " 'YResolution': 72.0,\n",
       " 'ExifVersion': b'0221',\n",
       " 'ComponentsConfiguration': b'\\x01\\x02\\x03\\x00',\n",
       " 'ShutterSpeedValue': 11.530689329556186,\n",
       " 'DateTimeOriginal': '2017:06:24 14:59:29',\n",
       " 'DateTimeDigitized': '2017:06:24 14:59:29',\n",
       " 'ApertureValue': 2.2750071245369052,\n",
       " 'BrightnessValue': 11.608111533586818,\n",
       " 'ExposureBiasValue': 0.0,\n",
       " 'MeteringMode': 5,\n",
       " 'Flash': 16,\n",
       " 'FocalLength': 4.15,\n",
       " 'ColorSpace': 1,\n",
       " 'ExifImageWidth': 4032,\n",
       " 'FocalLengthIn35mmFilm': 29,\n",
       " 'SceneCaptureType': 0,\n",
       " 'ExifImageHeight': 3024,\n",
       " 'SubsecTimeOriginal': '712',\n",
       " 'SubsecTimeDigitized': '712',\n",
       " 'SubjectLocation': (2015, 1511, 2217, 1330),\n",
       " 'SensingMethod': 2,\n",
       " 'ExposureTime': 0.0003379520108144643,\n",
       " 'FNumber': 2.2,\n",
       " 'SceneType': b'\\x01',\n",
       " 'ExposureProgram': 2,\n",
       " 'ISOSpeedRatings': 25,\n",
       " 'ExposureMode': 0,\n",
       " 'FlashPixVersion': b'0100',\n",
       " 'WhiteBalance': 0,\n",
       " 'LensSpecification': (4.15, 4.15, 2.2, 2.2),\n",
       " 'LensMake': 'Apple',\n",
       " 'LensModel': 'iPhone 6s back camera 4.15mm f/2.2',\n",
       " 'MakerNote': b'Apple iOS\\x00\\x00\\x01MM\\x00\\n\\x00\\x01\\x00\\t\\x00\\x00\\x00\\x01\\x00\\x00\\x00\\x05\\x00\\x02\\x00\\x07\\x00\\x00\\x02.\\x00\\x00\\x00\\x8c\\x00\\x03\\x00\\x07\\x00\\x00\\x00h\\x00\\x00\\x02\\xba\\x00\\x04\\x00\\t\\x00\\x00\\x00\\x01\\x00\\x00\\x00\\x01\\x00\\x05\\x00\\t\\x00\\x00\\x00\\x01\\x00\\x00\\x00\\xea\\x00\\x06\\x00\\t\\x00\\x00\\x00\\x01\\x00\\x00\\x00\\xdb\\x00\\x07\\x00\\t\\x00\\x00\\x00\\x01\\x00\\x00\\x00\\x01\\x00\\x08\\x00\\n\\x00\\x00\\x00\\x03\\x00\\x00\\x03\"\\x00\\x0e\\x00\\t\\x00\\x00\\x00\\x01\\x00\\x00\\x00\\x04\\x00\\x14\\x00\\t\\x00\\x00\\x00\\x01\\x00\\x00\\x00\\x01\\x00\\x00\\x00\\x00bplist00O\\x11\\x02\\x00[\\x01\\xab\\x01\\xc4\\x01\\xdd\\x01\\xe6\\x01\\xd9\\x01\\xba\\x01\\xca\\x01\\xd1\\x01\\xd9\\x01\\xd3\\x01\\xd2\\x01\\x9d\\x01\\xbb\\x01\\xee\\x01\\xff\\x01z\\x01\\x90\\x01\\xd0\\x01\\xe7\\x01\\xf2\\x01\\xdc\\x01\\xb0\\x01\\xcc\\x01\\x14\\x02\\xf4\\x01\\xc9\\x01\\xcc\\x01\\xce\\x01\\x0b\\x02\\xfb\\x01\\xcd\\x01\\x8c\\x01\\xc2\\x01\\xd0\\x01\\xd5\\x01\\x8c\\x01\\x8a\\x01o\\x01\\xa9\\x01\\xe6\\x01\\xd6\\x01\\xc7\\x01\\xd9\\x01\\xf4\\x01\\x13\\x02\\xf2\\x01\\xaf\\x01)\\x01l\\x01\\x8e\\x01\\xa5\\x01\\xac\\x01}\\x016\\x01v\\x01\\x9f\\x01\\xc4\\x01\\xf8\\x01\\xe8\\x01\\xc1\\x01\\xc2\\x01\\xeb\\x01\\xd3\\x01L\\x01U\\x01i\\x01X\\x01O\\x015\\x018\\x01y\\x01\\xae\\x01\\xc6\\x01\\x93\\x01h\\x01J\\x01j\\x01]\\x01I\\x01S\\x01A\\x01h\\x01\\\\\\x01|\\x01\\x83\\x01\\x8e\\x01w\\x01~\\x00\\x83\\x002\\x01!\\x01!\\x01\\x1b\\x01$\\x01&\\x01B\\x01Z\\x01b\\x01]\\x01c\\x01`\\x01W\\x01*\\x01U\\x00\\\\\\x00&\\x01B\\x01P\\x01S\\x016\\x01(\\x01$\\x01\\x17\\x01\\x1b\\x01\\x0e\\x01\\xf9\\x00\\xed\\x002\\x01\\xfd\\x00b\\x00y\\x00\\xdc\\x00\\x11\\x01\\x12\\x01\\x1b\\x01\\xff\\x00\\xf3\\x00\\xb8\\x00\\x99\\x00\\x93\\x00O\\x00A\\x00\\x80\\x00\\xb8\\x00\\xda\\x00w\\x00Y\\x00K\\x00K\\x00F\\x00I\\x00@\\x00>\\x00a\\x00x\\x00V\\x00S\\x00O\\x00\\xf2\\x005\\x01\\xf8\\x00\\x87\\x00C\\x00O\\x009\\x00=\\x00@\\x00I\\x00E\\x00<\\x00q\\x00N\\x00f\\x00b\\x00\\x98\\x00\\xa8\\x00i\\x00e\\x00k\\x00~\\x00u\\x00p\\x00d\\x00R\\x009\\x007\\x004\\x007\\x00J\\x00\\\\\\x00\\\\\\x003\\x00+\\x00G\\x00a\\x00^\\x00Y\\x00O\\x00R\\x00K\\x00P\\x00P\\x00V\\x00U\\x00N\\x00D\\x004\\x00@\\x00\\x1f\\x00D\\x00\\xa4\\x00d\\x00;\\x00T\\x00a\\x00f\\x00g\\x00h\\x00h\\x00c\\x00]\\x00P\\x008\\x00)\\x00$\\x00 \\x00\\x83\\x00U\\x00=\\x00H\\x00R\\x00f\\x00e\\x00e\\x00c\\x00_\\x00W\\x00R\\x00I\\x009\\x00A\\x00A\\x00E\\x00K\\x00W\\x00_\\x00f\\x00d\\x00f\\x00f\\x00d\\x00`\\x00]\\x00d\\x00c\\x00f\\x00h\\x00k\\x00k\\x00m\\x00m\\x00i\\x00h\\x00h\\x00g\\x00\\x00\\x08\\x00\\x00\\x00\\x00\\x00\\x00\\x02\\x01\\x00\\x00\\x00\\x00\\x00\\x00\\x00\\x01\\x00\\x00\\x00\\x00\\x00\\x00\\x00\\x00\\x00\\x00\\x00\\x00\\x00\\x00\\x02\\x0cbplist00\\xd4\\x01\\x02\\x03\\x04\\x05\\x06\\x07\\x08UflagsUvalueUepochYtimescale\\x10\\x01\\x13\\x00\\x01\\x0f$\\xc0\\xf6\\x12p\\x10\\x00\\x12;\\x9a\\xca\\x00\\x08\\x11\\x17\\x1d#-/8:\\x00\\x00\\x00\\x00\\x00\\x00\\x01\\x01\\x00\\x00\\x00\\x00\\x00\\x00\\x00\\t\\x00\\x00\\x00\\x00\\x00\\x00\\x00\\x00\\x00\\x00\\x00\\x00\\x00\\x00\\x00?\\xff\\xff\\xf6\\x9b\\x00\\x00\\t^\\xff\\xff\\xfe\\'\\x00\\x006c\\x00\\x00\\x00\\xe2\\x00\\x00\\t\\xe7'}"
      ]
     },
     "execution_count": 18,
     "metadata": {},
     "output_type": "execute_result"
    }
   ],
   "source": [
    "exif"
   ]
  },
  {
   "cell_type": "code",
   "execution_count": 19,
   "id": "e30c6135",
   "metadata": {},
   "outputs": [],
   "source": [
    "north=exif['GPSInfo'][2]\n",
    "east=exif['GPSInfo'][4]"
   ]
  },
  {
   "cell_type": "code",
   "execution_count": 20,
   "id": "bbd5e0bc",
   "metadata": {},
   "outputs": [
    {
     "data": {
      "text/plain": [
       "(48.0, 56.0, 55.79)"
      ]
     },
     "execution_count": 20,
     "metadata": {},
     "output_type": "execute_result"
    }
   ],
   "source": [
    "north"
   ]
  },
  {
   "cell_type": "code",
   "execution_count": 21,
   "id": "8517db28",
   "metadata": {},
   "outputs": [
    {
     "data": {
      "text/plain": [
       "(2.0, 26.0, 5.59)"
      ]
     },
     "execution_count": 21,
     "metadata": {},
     "output_type": "execute_result"
    }
   ],
   "source": [
    "east"
   ]
  },
  {
   "cell_type": "code",
   "execution_count": 22,
   "id": "042b63c6",
   "metadata": {},
   "outputs": [],
   "source": [
    "lat=((((north[0]*60) + north[1])*60)+north[2])/60/60\n",
    "long=((((east[0]*60) + east[1])*60)+east[2])/60/60\n",
    "lat, long =float(lat), float(long)"
   ]
  },
  {
   "cell_type": "code",
   "execution_count": 23,
   "id": "7c4273e9",
   "metadata": {},
   "outputs": [
    {
     "data": {
      "text/plain": [
       "48.94883055555555"
      ]
     },
     "execution_count": 23,
     "metadata": {},
     "output_type": "execute_result"
    }
   ],
   "source": [
    "lat"
   ]
  },
  {
   "cell_type": "code",
   "execution_count": 24,
   "id": "6c477061",
   "metadata": {},
   "outputs": [
    {
     "data": {
      "text/plain": [
       "2.434886111111111"
      ]
     },
     "execution_count": 24,
     "metadata": {},
     "output_type": "execute_result"
    }
   ],
   "source": [
    "long"
   ]
  },
  {
   "cell_type": "code",
   "execution_count": 25,
   "id": "84cdd4ca",
   "metadata": {},
   "outputs": [],
   "source": [
    "from gmplot import gmplot\n",
    "\n",
    "gmap=gmplot.GoogleMapPlotter(lat,long,12)"
   ]
  },
  {
   "cell_type": "code",
   "execution_count": 26,
   "id": "342956c2",
   "metadata": {},
   "outputs": [],
   "source": [
    "gmap.marker(lat,long,\"cornflowerblue\")\n",
    "gmap.draw(\"location.html\")"
   ]
  },
  {
   "cell_type": "code",
   "execution_count": 27,
   "id": "ffb11c51",
   "metadata": {},
   "outputs": [
    {
     "name": "stdout",
     "output_type": "stream",
     "text": [
      "Musée de l'Air et de l'Espace, Voie de Bus, Dugny, Le Raincy, Seine-Saint-Denis, Île-de-France, France métropolitaine, 93350, France\n"
     ]
    }
   ],
   "source": [
    "from geopy.geocoders import Nominatim\n",
    "\n",
    "geoLoc = Nominatim(user_agent=\"GetLoc\")\n",
    "\n",
    "locname = geoLoc.reverse(f\"{lat}, {long}\")\n",
    "\n",
    "print(locname.address)"
   ]
  },
  {
   "cell_type": "code",
   "execution_count": 28,
   "id": "656e6a1e",
   "metadata": {},
   "outputs": [
    {
     "data": {
      "text/plain": [
       "True"
      ]
     },
     "execution_count": 28,
     "metadata": {},
     "output_type": "execute_result"
    }
   ],
   "source": [
    "import webbrowser\n",
    "\n",
    "webbrowser.open(\"location.html\")"
   ]
  },
  {
   "cell_type": "code",
   "execution_count": null,
   "id": "1047a1f7",
   "metadata": {},
   "outputs": [],
   "source": []
  },
  {
   "cell_type": "code",
   "execution_count": null,
   "id": "27703ff0",
   "metadata": {},
   "outputs": [],
   "source": []
  }
 ],
 "metadata": {
  "kernelspec": {
   "display_name": "Python 3 (ipykernel)",
   "language": "python",
   "name": "python3"
  },
  "language_info": {
   "codemirror_mode": {
    "name": "ipython",
    "version": 3
   },
   "file_extension": ".py",
   "mimetype": "text/x-python",
   "name": "python",
   "nbconvert_exporter": "python",
   "pygments_lexer": "ipython3",
   "version": "3.9.13"
  }
 },
 "nbformat": 4,
 "nbformat_minor": 5
}
